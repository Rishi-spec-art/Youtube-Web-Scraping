{
 "cells": [
  {
   "cell_type": "code",
   "execution_count": 65,
   "id": "e07729a7",
   "metadata": {},
   "outputs": [],
   "source": [
    "from selenium import webdriver\n",
    "from bs4 import BeautifulSoup\n",
    "import pandas as pd"
   ]
  },
  {
   "cell_type": "code",
   "execution_count": 66,
   "id": "03b637f2",
   "metadata": {},
   "outputs": [],
   "source": [
    "browser = webdriver.Chrome()\n",
    "\n",
    "browser.get(\"https://www.youtube.com/@BBKiVines/videos\")"
   ]
  },
  {
   "cell_type": "code",
   "execution_count": 67,
   "id": "1d049744",
   "metadata": {
    "scrolled": true
   },
   "outputs": [],
   "source": [
    "soup = BeautifulSoup(browser.page_source)"
   ]
  },
  {
   "cell_type": "code",
   "execution_count": 68,
   "id": "41f7b6fb",
   "metadata": {
    "scrolled": true
   },
   "outputs": [],
   "source": [
    "data = []\n",
    "for i in soup.find_all('ytd-rich-item-renderer', class_ = 'style-scope ytd-rich-grid-row'):\n",
    "    try: \n",
    "        thumbnail_link = i.find('img').get('src').split('?')[0]\n",
    "    except:\n",
    "        None\n",
    "        \n",
    "    try: \n",
    "        video_link = i.find('a').get('href')\n",
    "    except:\n",
    "        None\n",
    "        \n",
    "    try: \n",
    "        title = i.find('yt-formatted-string', class_ = 'style-scope ytd-rich-grid-media').text\n",
    "    except:\n",
    "        None\n",
    "        \n",
    "    try: \n",
    "        views = i.find_all('span', class_ = 'inline-metadata-item style-scope ytd-video-meta-block')[0].text\n",
    "    except:\n",
    "        None\n",
    "        \n",
    "    try: \n",
    "        date_time = i.find_all('span', class_ = 'inline-metadata-item style-scope ytd-video-meta-block')[1].text\n",
    "    except:\n",
    "        None\n",
    "    \n",
    "    data.append([title, views, date_time, thumbnail_link, video_link])"
   ]
  },
  {
   "cell_type": "code",
   "execution_count": 71,
   "id": "0d0e02bb",
   "metadata": {},
   "outputs": [],
   "source": [
    "df = pd.DataFrame(data, columns = ['title', 'views', 'date_time', 'thumbnail_link', 'video_link'])"
   ]
  },
  {
   "cell_type": "code",
   "execution_count": null,
   "id": "f308d6a3",
   "metadata": {},
   "outputs": [],
   "source": [
    "df"
   ]
  },
  {
   "cell_type": "code",
   "execution_count": 73,
   "id": "3663e9de",
   "metadata": {},
   "outputs": [
    {
     "data": {
      "text/plain": [
       "title             0\n",
       "views             0\n",
       "date_time         0\n",
       "thumbnail_link    0\n",
       "video_link        0\n",
       "dtype: int64"
      ]
     },
     "execution_count": 73,
     "metadata": {},
     "output_type": "execute_result"
    }
   ],
   "source": [
    "df.isnull().sum()"
   ]
  },
  {
   "cell_type": "code",
   "execution_count": 74,
   "id": "2ab1fe5f",
   "metadata": {},
   "outputs": [],
   "source": [
    "df.to_csv('data.csv', index = False)"
   ]
  }
 ],
 "metadata": {
  "kernelspec": {
   "display_name": "Python 3 (ipykernel)",
   "language": "python",
   "name": "python3"
  },
  "language_info": {
   "codemirror_mode": {
    "name": "ipython",
    "version": 3
   },
   "file_extension": ".py",
   "mimetype": "text/x-python",
   "name": "python",
   "nbconvert_exporter": "python",
   "pygments_lexer": "ipython3",
   "version": "3.11.5"
  }
 },
 "nbformat": 4,
 "nbformat_minor": 5
}
