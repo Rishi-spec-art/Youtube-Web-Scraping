{
 "cells": [
  {
   "cell_type": "code",
   "execution_count": 134,
   "id": "4a05cf4a",
   "metadata": {},
   "outputs": [],
   "source": [
    "from selenium import webdriver\n",
    "import pandas as pd\n",
    "from bs4 import BeautifulSoup\n",
    "import time\n",
    "import numpy as np\n",
    "from tqdm import tqdm"
   ]
  },
  {
   "cell_type": "code",
   "execution_count": 198,
   "id": "91223f4b",
   "metadata": {},
   "outputs": [],
   "source": [
    "df = pd.read_csv('data.csv')"
   ]
  },
  {
   "cell_type": "code",
   "execution_count": 199,
   "id": "7e6456b0",
   "metadata": {},
   "outputs": [
    {
     "data": {
      "text/html": [
       "<div>\n",
       "<style scoped>\n",
       "    .dataframe tbody tr th:only-of-type {\n",
       "        vertical-align: middle;\n",
       "    }\n",
       "\n",
       "    .dataframe tbody tr th {\n",
       "        vertical-align: top;\n",
       "    }\n",
       "\n",
       "    .dataframe thead th {\n",
       "        text-align: right;\n",
       "    }\n",
       "</style>\n",
       "<table border=\"1\" class=\"dataframe\">\n",
       "  <thead>\n",
       "    <tr style=\"text-align: right;\">\n",
       "      <th></th>\n",
       "      <th>title</th>\n",
       "      <th>views</th>\n",
       "      <th>date_time</th>\n",
       "      <th>thumbnail_link</th>\n",
       "      <th>video_link</th>\n",
       "    </tr>\n",
       "  </thead>\n",
       "  <tbody>\n",
       "    <tr>\n",
       "      <th>0</th>\n",
       "      <td>BB Ki Vines- | Ghar Kalesh |</td>\n",
       "      <td>15M views</td>\n",
       "      <td>3 months ago</td>\n",
       "      <td>https://i.ytimg.com/vi/PJ3ZQk_lr9E/hqdefault.jpg</td>\n",
       "      <td>/watch?v=PJ3ZQk_lr9E</td>\n",
       "    </tr>\n",
       "    <tr>\n",
       "      <th>1</th>\n",
       "      <td>BB Ki Vines- | Love Ka Hakkar |</td>\n",
       "      <td>22M views</td>\n",
       "      <td>9 months ago</td>\n",
       "      <td>https://i.ytimg.com/vi/UrIaQbIK2E4/hqdefault.jpg</td>\n",
       "      <td>/watch?v=UrIaQbIK2E4</td>\n",
       "    </tr>\n",
       "    <tr>\n",
       "      <th>2</th>\n",
       "      <td>BB Ki Vines Productions | Haseen Raat | Taaza ...</td>\n",
       "      <td>13M views</td>\n",
       "      <td>1 year ago</td>\n",
       "      <td>https://i.ytimg.com/vi/Nwh6CQ50h0g/hqdefault.jpg</td>\n",
       "      <td>/watch?v=Nwh6CQ50h0g</td>\n",
       "    </tr>\n",
       "    <tr>\n",
       "      <th>3</th>\n",
       "      <td>BB Ki Vines | Angry Masterji Part 16</td>\n",
       "      <td>29M views</td>\n",
       "      <td>1 year ago</td>\n",
       "      <td>https://i.ytimg.com/vi/HbTON0nb4DU/hqdefault.jpg</td>\n",
       "      <td>/watch?v=HbTON0nb4DU</td>\n",
       "    </tr>\n",
       "    <tr>\n",
       "      <th>4</th>\n",
       "      <td>BB Ki Vines Productions- Taaza Khabar | Hotsta...</td>\n",
       "      <td>20M views</td>\n",
       "      <td>1 year ago</td>\n",
       "      <td>https://i.ytimg.com/vi/zm6xa3ggt5A/hqdefault.jpg</td>\n",
       "      <td>/watch?v=zm6xa3ggt5A</td>\n",
       "    </tr>\n",
       "  </tbody>\n",
       "</table>\n",
       "</div>"
      ],
      "text/plain": [
       "                                               title      views     date_time  \\\n",
       "0                       BB Ki Vines- | Ghar Kalesh |  15M views  3 months ago   \n",
       "1                    BB Ki Vines- | Love Ka Hakkar |  22M views  9 months ago   \n",
       "2  BB Ki Vines Productions | Haseen Raat | Taaza ...  13M views    1 year ago   \n",
       "3               BB Ki Vines | Angry Masterji Part 16  29M views    1 year ago   \n",
       "4  BB Ki Vines Productions- Taaza Khabar | Hotsta...  20M views    1 year ago   \n",
       "\n",
       "                                     thumbnail_link            video_link  \n",
       "0  https://i.ytimg.com/vi/PJ3ZQk_lr9E/hqdefault.jpg  /watch?v=PJ3ZQk_lr9E  \n",
       "1  https://i.ytimg.com/vi/UrIaQbIK2E4/hqdefault.jpg  /watch?v=UrIaQbIK2E4  \n",
       "2  https://i.ytimg.com/vi/Nwh6CQ50h0g/hqdefault.jpg  /watch?v=Nwh6CQ50h0g  \n",
       "3  https://i.ytimg.com/vi/HbTON0nb4DU/hqdefault.jpg  /watch?v=HbTON0nb4DU  \n",
       "4  https://i.ytimg.com/vi/zm6xa3ggt5A/hqdefault.jpg  /watch?v=zm6xa3ggt5A  "
      ]
     },
     "execution_count": 199,
     "metadata": {},
     "output_type": "execute_result"
    }
   ],
   "source": [
    "df.head()"
   ]
  },
  {
   "cell_type": "code",
   "execution_count": null,
   "id": "de28616b",
   "metadata": {},
   "outputs": [],
   "source": [
    "browser = webdriver.Chrome()\n",
    "browser.get('https://www.youtube.com/')\n",
    "time.sleep(3)\n",
    "\n",
    "\n",
    "\n",
    "data = []\n",
    "for link in tqdm(df['video_link']):\n",
    "    link = 'https://www.youtube.com' + link\n",
    "    browser.get(link)\n",
    "    \n",
    "    time.sleep(6) #because if the browser/driver didn't get the right amount of time to load, it will return None as value.\n",
    "    \n",
    "    soup = BeautifulSoup(browser.page_source, 'html.parser')\n",
    "    \n",
    "    try: \n",
    "        title = soup.find('yt-formatted-string', class_ = 'style-scope ytd-watch-metadata').text\n",
    "    except: \n",
    "        title = np.nan\n",
    "        \n",
    "    try: \n",
    "        likes = soup.find('button', class_ = 'yt-spec-button-shape-next yt-spec-button-shape-next--tonal yt-spec-button-shape-next--mono yt-spec-button-shape-next--size-m yt-spec-button-shape-next--icon-leading yt-spec-button-shape-next--segmented-start').get('aria-label')\n",
    "    except: \n",
    "        likes = np.nan\n",
    "        \n",
    "    try: \n",
    "        date_time = ' '.join(soup.find('tp-yt-paper-tooltip', class_ = 'style-scope ytd-watch-info-text').text.replace('\\n', '').replace('•', '').strip().split(' ')[3:7])\n",
    "    except: \n",
    "        date_time = np.nan\n",
    "        \n",
    "    try: \n",
    "        views = soup.find('tp-yt-paper-tooltip', class_ = 'style-scope ytd-watch-info-text').text.replace('\\n', '').replace('•', '').strip().split(' ')[0]\n",
    "    except: \n",
    "        views = np.nan\n",
    "        \n",
    "    try: \n",
    "        description = soup.find_all('span', class_ = 'yt-core-attributed-string yt-core-attributed-string--white-space-pre-wrap')[1].text.replace('\\xa0', '')\n",
    "    except: \n",
    "        description = np.nan\n",
    "        \n",
    "    data.append([title, date_time, likes, views, link, description])"
   ]
  },
  {
   "cell_type": "code",
   "execution_count": 192,
   "id": "8aa83b03",
   "metadata": {},
   "outputs": [],
   "source": [
    "df = pd.DataFrame(data, columns = ['title', 'date_time', 'likes', 'views', 'link', 'description'])"
   ]
  },
  {
   "cell_type": "code",
   "execution_count": 193,
   "id": "720f3ea9",
   "metadata": {},
   "outputs": [
    {
     "data": {
      "text/html": [
       "<div>\n",
       "<style scoped>\n",
       "    .dataframe tbody tr th:only-of-type {\n",
       "        vertical-align: middle;\n",
       "    }\n",
       "\n",
       "    .dataframe tbody tr th {\n",
       "        vertical-align: top;\n",
       "    }\n",
       "\n",
       "    .dataframe thead th {\n",
       "        text-align: right;\n",
       "    }\n",
       "</style>\n",
       "<table border=\"1\" class=\"dataframe\">\n",
       "  <thead>\n",
       "    <tr style=\"text-align: right;\">\n",
       "      <th></th>\n",
       "      <th>title</th>\n",
       "      <th>date_time</th>\n",
       "      <th>likes</th>\n",
       "      <th>views</th>\n",
       "      <th>link</th>\n",
       "      <th>description</th>\n",
       "    </tr>\n",
       "  </thead>\n",
       "  <tbody>\n",
       "    <tr>\n",
       "      <th>0</th>\n",
       "      <td>BB Ki Vines- | Ghar Kalesh |</td>\n",
       "      <td>Premiered Nov 9, 2023</td>\n",
       "      <td>like this video along with 1,717,619 other people</td>\n",
       "      <td>15,622,289</td>\n",
       "      <td>https://www.youtube.com/watch?v=PJ3ZQk_lr9E</td>\n",
       "      <td>Titu Mama comes rushing to Bhuvan's house afte...</td>\n",
       "    </tr>\n",
       "    <tr>\n",
       "      <th>1</th>\n",
       "      <td>BB Ki Vines- | Love Ka Hakkar |</td>\n",
       "      <td>Premiered May 7, 2023</td>\n",
       "      <td>like this video along with 2,058,473 other people</td>\n",
       "      <td>22,138,801</td>\n",
       "      <td>https://www.youtube.com/watch?v=UrIaQbIK2E4</td>\n",
       "      <td>Sameer has fallen in love! Bhuvan and Bancho t...</td>\n",
       "    </tr>\n",
       "    <tr>\n",
       "      <th>2</th>\n",
       "      <td>BB Ki Vines Productions | Haseen Raat | Taaza ...</td>\n",
       "      <td>Jan 21, 2023</td>\n",
       "      <td>like this video along with 602,157 other people</td>\n",
       "      <td>13,725,144</td>\n",
       "      <td>https://www.youtube.com/watch?v=Nwh6CQ50h0g</td>\n",
       "      <td>Watch #HotstarSpecials Taaza Khabar only on Di...</td>\n",
       "    </tr>\n",
       "    <tr>\n",
       "      <th>3</th>\n",
       "      <td>BB Ki Vines | Angry Masterji Part 16</td>\n",
       "      <td>Premiered Jan 3, 2023</td>\n",
       "      <td>like this video along with 2,295,945 other people</td>\n",
       "      <td>29,934,811</td>\n",
       "      <td>https://www.youtube.com/watch?v=HbTON0nb4DU</td>\n",
       "      <td>Bhuvan, Bablooji and Sameer visit Bubbly sir t...</td>\n",
       "    </tr>\n",
       "    <tr>\n",
       "      <th>4</th>\n",
       "      <td>BB Ki Vines Productions- Taaza Khabar | Hotsta...</td>\n",
       "      <td>Premiered Dec 13, 2022</td>\n",
       "      <td>like this video along with 661,926 other people</td>\n",
       "      <td>20,907,466</td>\n",
       "      <td>https://www.youtube.com/watch?v=zm6xa3ggt5A</td>\n",
       "      <td>Jaadu ya chamatkaar? Dhoka ya yaqeen? Vardaan ...</td>\n",
       "    </tr>\n",
       "  </tbody>\n",
       "</table>\n",
       "</div>"
      ],
      "text/plain": [
       "                                               title               date_time  \\\n",
       "0                       BB Ki Vines- | Ghar Kalesh |   Premiered Nov 9, 2023   \n",
       "1                    BB Ki Vines- | Love Ka Hakkar |   Premiered May 7, 2023   \n",
       "2  BB Ki Vines Productions | Haseen Raat | Taaza ...           Jan 21, 2023    \n",
       "3               BB Ki Vines | Angry Masterji Part 16   Premiered Jan 3, 2023   \n",
       "4  BB Ki Vines Productions- Taaza Khabar | Hotsta...  Premiered Dec 13, 2022   \n",
       "\n",
       "                                               likes       views  \\\n",
       "0  like this video along with 1,717,619 other people  15,622,289   \n",
       "1  like this video along with 2,058,473 other people  22,138,801   \n",
       "2    like this video along with 602,157 other people  13,725,144   \n",
       "3  like this video along with 2,295,945 other people  29,934,811   \n",
       "4    like this video along with 661,926 other people  20,907,466   \n",
       "\n",
       "                                          link  \\\n",
       "0  https://www.youtube.com/watch?v=PJ3ZQk_lr9E   \n",
       "1  https://www.youtube.com/watch?v=UrIaQbIK2E4   \n",
       "2  https://www.youtube.com/watch?v=Nwh6CQ50h0g   \n",
       "3  https://www.youtube.com/watch?v=HbTON0nb4DU   \n",
       "4  https://www.youtube.com/watch?v=zm6xa3ggt5A   \n",
       "\n",
       "                                         description  \n",
       "0  Titu Mama comes rushing to Bhuvan's house afte...  \n",
       "1  Sameer has fallen in love! Bhuvan and Bancho t...  \n",
       "2  Watch #HotstarSpecials Taaza Khabar only on Di...  \n",
       "3  Bhuvan, Bablooji and Sameer visit Bubbly sir t...  \n",
       "4  Jaadu ya chamatkaar? Dhoka ya yaqeen? Vardaan ...  "
      ]
     },
     "execution_count": 193,
     "metadata": {},
     "output_type": "execute_result"
    }
   ],
   "source": [
    "df.head()"
   ]
  },
  {
   "cell_type": "code",
   "execution_count": 162,
   "id": "9e68d0fa",
   "metadata": {},
   "outputs": [
    {
     "data": {
      "text/plain": [
       "title          0\n",
       "date_time      0\n",
       "likes          0\n",
       "views          0\n",
       "link           0\n",
       "description    0\n",
       "dtype: int64"
      ]
     },
     "execution_count": 162,
     "metadata": {},
     "output_type": "execute_result"
    }
   ],
   "source": [
    "df.isnull().sum()"
   ]
  },
  {
   "cell_type": "code",
   "execution_count": 194,
   "id": "37685e21",
   "metadata": {
    "scrolled": true
   },
   "outputs": [],
   "source": [
    "df.to_csv('bb_ki_vines.csv', index = False)"
   ]
  },
  {
   "cell_type": "markdown",
   "id": "58ee5c83",
   "metadata": {},
   "source": [
    "# Preprocessing: "
   ]
  },
  {
   "cell_type": "code",
   "execution_count": 163,
   "id": "5b0d2975",
   "metadata": {},
   "outputs": [],
   "source": [
    "like = []\n",
    "for i in df['likes']:\n",
    "    like.append(i[27:-13])"
   ]
  },
  {
   "cell_type": "code",
   "execution_count": 164,
   "id": "650652a8",
   "metadata": {},
   "outputs": [],
   "source": [
    "df['likes'] = like"
   ]
  },
  {
   "cell_type": "code",
   "execution_count": 188,
   "id": "518912dd",
   "metadata": {},
   "outputs": [],
   "source": [
    "df['date_time'] = np.where(df['date_time'].str.startswith('Premiered '), df['date_time'].str[10:], df['date_time'])"
   ]
  },
  {
   "cell_type": "code",
   "execution_count": null,
   "id": "d4d89789",
   "metadata": {},
   "outputs": [],
   "source": [
    "df"
   ]
  },
  {
   "cell_type": "code",
   "execution_count": 191,
   "id": "96857a7d",
   "metadata": {},
   "outputs": [],
   "source": [
    "df.to_csv('bb_ki_vines_preprocessed.csv', index = False)"
   ]
  }
 ],
 "metadata": {
  "kernelspec": {
   "display_name": "Python 3 (ipykernel)",
   "language": "python",
   "name": "python3"
  },
  "language_info": {
   "codemirror_mode": {
    "name": "ipython",
    "version": 3
   },
   "file_extension": ".py",
   "mimetype": "text/x-python",
   "name": "python",
   "nbconvert_exporter": "python",
   "pygments_lexer": "ipython3",
   "version": "3.11.5"
  }
 },
 "nbformat": 4,
 "nbformat_minor": 5
}
